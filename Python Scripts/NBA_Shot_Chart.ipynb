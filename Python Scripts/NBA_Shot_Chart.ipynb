{
 "cells": [
  {
   "cell_type": "code",
   "execution_count": 1,
   "metadata": {},
   "outputs": [],
   "source": [
    "from nba_api.stats.endpoints import shotchartleaguewide, commonplayerinfo\n",
    "from nba_api.stats.static import players\n",
    "\n",
    "import numpy as np\n",
    "import pandas as pd\n",
    "import json\n",
    "import matplotlib.pyplot as plt\n",
    "import matplotlib as mpl"
   ]
  },
  {
   "cell_type": "code",
   "execution_count": 2,
   "metadata": {},
   "outputs": [
    {
     "name": "stdout",
     "output_type": "stream",
     "text": [
      "          GRID_TYPE        SHOT_ZONE_BASIC         SHOT_ZONE_AREA  \\\n",
      "0   League Averages      Above the Break 3         Back Court(BC)   \n",
      "1   League Averages      Above the Break 3              Center(C)   \n",
      "2   League Averages      Above the Break 3   Left Side Center(LC)   \n",
      "3   League Averages      Above the Break 3  Right Side Center(RC)   \n",
      "4   League Averages              Backcourt         Back Court(BC)   \n",
      "5   League Averages  In The Paint (Non-RA)              Center(C)   \n",
      "6   League Averages  In The Paint (Non-RA)              Center(C)   \n",
      "7   League Averages  In The Paint (Non-RA)           Left Side(L)   \n",
      "8   League Averages  In The Paint (Non-RA)          Right Side(R)   \n",
      "9   League Averages          Left Corner 3           Left Side(L)   \n",
      "10  League Averages              Mid-Range              Center(C)   \n",
      "11  League Averages              Mid-Range              Center(C)   \n",
      "12  League Averages              Mid-Range   Left Side Center(LC)   \n",
      "13  League Averages              Mid-Range           Left Side(L)   \n",
      "14  League Averages              Mid-Range           Left Side(L)   \n",
      "15  League Averages              Mid-Range  Right Side Center(RC)   \n",
      "16  League Averages              Mid-Range          Right Side(R)   \n",
      "17  League Averages              Mid-Range          Right Side(R)   \n",
      "18  League Averages        Restricted Area              Center(C)   \n",
      "19  League Averages         Right Corner 3          Right Side(R)   \n",
      "\n",
      "    SHOT_ZONE_RANGE    FGA    FGM  FG_PCT  \n",
      "0   Back Court Shot     46      6   0.130  \n",
      "1           24+ ft.  16180   5602   0.346  \n",
      "2           24+ ft.  22539   8051   0.357  \n",
      "3           24+ ft.  21167   7396   0.349  \n",
      "4   Back Court Shot    441      9   0.020  \n",
      "5          8-16 ft.  10572   4508   0.426  \n",
      "6   Less Than 8 ft.  17943   6915   0.385  \n",
      "7          8-16 ft.   1919    789   0.411  \n",
      "8          8-16 ft.   2013    791   0.393  \n",
      "9           24+ ft.   9185   3660   0.398  \n",
      "10         8-16 ft.   1898    803   0.423  \n",
      "11        16-24 ft.   4351   1805   0.415  \n",
      "12        16-24 ft.   3881   1541   0.397  \n",
      "13         8-16 ft.   4731   1920   0.406  \n",
      "14        16-24 ft.   1675    671   0.401  \n",
      "15        16-24 ft.   4123   1676   0.407  \n",
      "16        16-24 ft.   1575    622   0.395  \n",
      "17         8-16 ft.   4878   1979   0.406  \n",
      "18  Less Than 8 ft.  64471  40974   0.636  \n",
      "19          24+ ft.   8635   3279   0.380  \n"
     ]
    }
   ],
   "source": [
    "\n",
    "# Call API - Individual player\n",
    "response = shotchartleaguewide.ShotChartLeagueWide(\n",
    "    league_id=\"00\",\n",
    "    season=\"2019-20\"\n",
    ")\n",
    "\n",
    "content = json.loads(response.get_json())\n",
    "\n",
    "results = content['resultSets'][0]\n",
    "headers = results['headers']\n",
    "rows = results['rowSet']\n",
    "df = pd.DataFrame(rows)\n",
    "df.columns = headers\n",
    "\n",
    "print(df)\n",
    "# df.to_csv(\"output.csv\", mode='a', index=False, header=False)\n",
    "\n",
    "def create_court(ax, color):\n",
    "    ax.plot([-220, -220], [0, 140], linewidth=2, color=color)\n",
    "    ax.plot([220, 220], [0, 140], linewidth=2, color=color)\n",
    "    ax.add_artist(mpl.patches.Arc((0, 140), 440, 315, theta1=0, theta2=180, facecolor='none', edgecolor=color, lw=2))\n",
    "    ax.plot([-80, -80], [0, 190], linewidth=2, color=color)\n",
    "    ax.plot([80, 80], [0, 190], linewidth=2, color=color)\n",
    "    ax.plot([-60, -60], [0, 190], linewidth=2, color=color)\n",
    "    ax.plot([60, 60], [0, 190], linewidth=2, color=color)\n",
    "    ax.plot([-80, 80], [190, 190], linewidth=2, color=color)\n",
    "    ax.add_artist(mpl.patches.Circle((0, 190), 60, facecolor='none', edgecolor=color, lw=2))\n",
    "\n",
    "    ax.add_artist(mpl.patches.Circle((0, 60), 15, facecolor='none', edgecolor=color, lw=2))\n",
    "    ax.plot([-30, 30], [40, 40], linewidth=2, color=color)\n",
    "    ax.set_xticks([])\n",
    "    ax.set_yticks([])\n",
    "    ax.set_xlim(-250, 250)\n",
    "    ax.set_ylim(0, 470)\n"
   ]
  },
  {
   "cell_type": "code",
   "execution_count": 3,
   "metadata": {},
   "outputs": [],
   "source": [
    "mpl.rcParams['font.family'] = 'Avenir'\n",
    "mpl.rcParams['font.size'] = 18\n",
    "mpl.rcParams['axes.linewidth'] = 2\n"
   ]
  },
  {
   "cell_type": "code",
   "execution_count": 4,
   "metadata": {},
   "outputs": [
    {
     "data": {
      "image/png": "[encoded data removed]",
      "text/plain": [
       "<Figure size 288x270.72 with 1 Axes>"
      ]
     },
     "metadata": {},
     "output_type": "display_data"
    }
   ],
   "source": [
    "fig = plt.figure(figsize=(4, 3.76))\n",
    "ax = fig.add_axes([0, 0, 1, 1])\n",
    "ax = create_court(ax, 'black')\n",
    "plt.show()"
   ]
  },
  {
   "cell_type": "code",
   "execution_count": null,
   "metadata": {},
   "outputs": [],
   "source": []
  }
 ],
 "metadata": {
  "kernelspec": {
   "display_name": "Python 3.9.7 ('base')",
   "language": "python",
   "name": "python3"
  },
  "language_info": {
   "codemirror_mode": {
    "name": "ipython",
    "version": 3
   },
   "file_extension": ".py",
   "mimetype": "text/x-python",
   "name": "python",
   "nbconvert_exporter": "python",
   "pygments_lexer": "ipython3",
   "version": "3.9.7"
  },
  "orig_nbformat": 4,
  "vscode": {
   "interpreter": {
    "hash": "b5f627bb6120e9dee6f0b4de1b3f679271400f94968d82f80a2ba2e8d3841d52"
   }
  }
 },
 "nbformat": 4,
 "nbformat_minor": 2
}
