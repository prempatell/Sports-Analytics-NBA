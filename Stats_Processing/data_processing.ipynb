{
 "cells": [
  {
   "cell_type": "code",
   "execution_count": 3,
   "metadata": {},
   "outputs": [],
   "source": [
    "import pandas as pd"
   ]
  },
  {
   "cell_type": "code",
   "execution_count": 19,
   "metadata": {},
   "outputs": [],
   "source": [
    "def processWinColumn(val):\n",
    "  return val[0]\n",
    "\n",
    "def processTimeColumn(val:str):\n",
    "  splitTimeString = val.split(':')\n",
    "  minutes = int(splitTimeString[0])\n",
    "  seconds = int(splitTimeString[1])\n",
    "  return minutes+seconds/60\n",
    "  \n",
    "def processAgeColumn(val:str):\n",
    "  splitString = val.split('-')\n",
    "  years = int(splitString[0])\n",
    "  days = int(splitString[1])/365\n",
    "  return years + days"
   ]
  },
  {
   "cell_type": "code",
   "execution_count": 16,
   "metadata": {},
   "outputs": [],
   "source": [
    "#create new columns for 2 pointers, remove '%' marks, etc...\n",
    "def preprocessDataframe(df:pd.DataFrame,filename:str):\n",
    "  df[\"Age\"] = df[\"Age\"].apply(processAgeColumn)\n",
    "  df[\"Game Result\"] = df['Game Result'].apply(processWinColumn)\n",
    "  df[\"2P\"] = df[\"FG\"] - df[\"3P\"]\n",
    "  df[\"FGA\"] = df[\"FGA\"].fillna(0)\n",
    "  df[\"3PA\"] = df[\"3PA\"].fillna(0)\n",
    "  df[\"FTA\"] = df[\"FTA\"].fillna(0)\n",
    "  df[\"PointDifference\"] = df[\"PointDifference\"].fillna(0)\n",
    "  df[\"2PA\"] = df[\"FGA\"] - df[\"3PA\"]\n",
    "  df[\"2Pcent\"] = df[\"2P\"]/df[\"2PA\"]\n",
    "  df[\"MP\"] = df[\"MP\"].apply(processTimeColumn)\n",
    "  df.to_csv(filename+'.csv')\n",
    "  df.head()"
   ]
  },
  {
   "cell_type": "code",
   "execution_count": 34,
   "metadata": {},
   "outputs": [],
   "source": [
    "\n",
    "skipEvenRows = pd.read_csv('cumulative_data_19.csv', skiprows=lambda x: (x != 0) and not x % 2)\n",
    "skipOddRows = pd.read_csv('cumulative_data_19.csv', skiprows=lambda x: (x != 0) and x % 2)\n",
    "preprocessDataframe(skipEvenRows,\"reduced_data_even_19\")\n",
    "preprocessDataframe(skipOddRows,\"reduced_data_odd_19\")\n"
   ]
  },
  {
   "cell_type": "code",
   "execution_count": 15,
   "metadata": {},
   "outputs": [],
   "source": [
    "#This cell creates a processed_data for the entire cumulative data file\n",
    "#fullProcessedData = pd.read_csv('cumulative_data_19.csv')\n",
    "#preprocessDataframe(fullProcessedData,'cumulative_processed_data_19')"
   ]
  },
  {
   "cell_type": "code",
   "execution_count": 27,
   "metadata": {},
   "outputs": [],
   "source": [
    "#This cell creates a processed_data for the entire cumulative data file\n",
    "fullProcessedData = pd.read_csv('cumulative_data_22.csv')\n",
    "preprocessDataframe(fullProcessedData,'cumulative_processed_data_22')"
   ]
  },
  {
   "cell_type": "code",
   "execution_count": 28,
   "metadata": {},
   "outputs": [],
   "source": [
    "positiveProcessedData = fullProcessedData[fullProcessedData['PointDifference'] >= 0]\n",
    "positiveProcessedData.to_csv(\"positive_points\"+'.csv')"
   ]
  },
  {
   "cell_type": "code",
   "execution_count": 29,
   "metadata": {},
   "outputs": [],
   "source": [
    "#for negative\n",
    "negativeProcessedData = fullProcessedData[fullProcessedData['PointDifference'] <= 0]\n",
    "negativeProcessedData.to_csv(\"negative_points\"+'.csv')"
   ]
  }
 ],
 "metadata": {
  "kernelspec": {
   "display_name": "Python 3.10.7 64-bit",
   "language": "python",
   "name": "python3"
  },
  "language_info": {
   "codemirror_mode": {
    "name": "ipython",
    "version": 3
   },
   "file_extension": ".py",
   "mimetype": "text/x-python",
   "name": "python",
   "nbconvert_exporter": "python",
   "pygments_lexer": "ipython3",
   "version": "3.10.7"
  },
  "orig_nbformat": 4,
  "vscode": {
   "interpreter": {
    "hash": "aee8b7b246df8f9039afb4144a1f6fd8d2ca17a180786b69acc140d282b71a49"
   }
  }
 },
 "nbformat": 4,
 "nbformat_minor": 2
}
